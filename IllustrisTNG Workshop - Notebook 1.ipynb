{
 "cells": [
  {
   "cell_type": "markdown",
   "id": "beb6f17b",
   "metadata": {},
   "source": [
    "# Workshop 3: Exploring IllustrisTNG simulations to derive observationally comparable star formation rates and metallicities\n",
    "\n",
    "## Notebook 1: IllustrisTNG API and downloading data\n",
    "\n",
    "In this notebook, you will be introduced to the different data types availbale for the TNG simulations, and how to use the TNG API to download the data you need."
   ]
  },
  {
   "cell_type": "code",
   "execution_count": 1,
   "id": "9c663301",
   "metadata": {},
   "outputs": [],
   "source": [
    "#BRYANNE: give install link\n",
    "import iapi_TNG as iapi\n",
    "#this package contains useful functions for downloading the neccessary data\n",
    "#make sure you have edited iapi_TNG.py to include your personal API key\n",
    "import numpy as np\n",
    "import h5py #most TNG data is downloaded as hdf5 files\n",
    "\n",
    "h=0.6774 #BRYANNE: remove for final version\n",
    "baseUrl = 'http://www.tng-project.org/api/'\n"
   ]
  },
  {
   "cell_type": "code",
   "execution_count": 16,
   "id": "4b24b9bc",
   "metadata": {},
   "outputs": [
    {
     "ename": "TypeError",
     "evalue": "only integer scalar arrays can be converted to a scalar index",
     "output_type": "error",
     "traceback": [
      "\u001b[0;31m---------------------------------------------------------------------------\u001b[0m",
      "\u001b[0;31mTypeError\u001b[0m                                 Traceback (most recent call last)",
      "Cell \u001b[0;32mIn[16], line 2\u001b[0m\n\u001b[1;32m      1\u001b[0m b\u001b[38;5;241m=\u001b[39mnp\u001b[38;5;241m.\u001b[39marange(\u001b[38;5;241m99\u001b[39m)\n\u001b[0;32m----> 2\u001b[0m \u001b[43miapi\u001b[49m\u001b[38;5;241;43m.\u001b[39;49m\u001b[43mgetredshift\u001b[49m\u001b[43m(\u001b[49m\u001b[43mb\u001b[49m\u001b[43m[\u001b[49m\u001b[43m:\u001b[49m\u001b[43m]\u001b[49m\u001b[43m)\u001b[49m\n",
      "File \u001b[0;32m/projectnb/res-star/TNG Workshop/iapi_TNG.py:41\u001b[0m, in \u001b[0;36mgetredshift\u001b[0;34m(snapnum)\u001b[0m\n\u001b[1;32m     37\u001b[0m sim \u001b[38;5;241m=\u001b[39m get( r[\u001b[38;5;124m'\u001b[39m\u001b[38;5;124msimulations\u001b[39m\u001b[38;5;124m'\u001b[39m][i][\u001b[38;5;124m'\u001b[39m\u001b[38;5;124murl\u001b[39m\u001b[38;5;124m'\u001b[39m] )\n\u001b[1;32m     39\u001b[0m snaps \u001b[38;5;241m=\u001b[39m get( sim[\u001b[38;5;124m'\u001b[39m\u001b[38;5;124msnapshots\u001b[39m\u001b[38;5;124m'\u001b[39m] )\n\u001b[0;32m---> 41\u001b[0m \u001b[38;5;28;01mreturn\u001b[39;00m(\u001b[43msnaps\u001b[49m\u001b[43m[\u001b[49m\u001b[43msnapnum\u001b[49m\u001b[43m]\u001b[49m[\u001b[38;5;124m'\u001b[39m\u001b[38;5;124mredshift\u001b[39m\u001b[38;5;124m'\u001b[39m])\n",
      "\u001b[0;31mTypeError\u001b[0m: only integer scalar arrays can be converted to a scalar index"
     ]
    }
   ],
   "source": [
    "b=np.arange(99)\n",
    "iapi.getredshift(b[:])"
   ]
  },
  {
   "cell_type": "markdown",
   "id": "c87a6749",
   "metadata": {},
   "source": [
    "### General simulation data\n",
    "\n",
    "BRYANNE: pull examples from your code"
   ]
  },
  {
   "cell_type": "code",
   "execution_count": 2,
   "id": "b2339af3",
   "metadata": {},
   "outputs": [],
   "source": [
    "#EDIT THIS FOR YOUR MACHINE\n",
    "#dirc ='/path/to/directory/\n",
    "dirc='/projectnb/res-star/TNG Workshop/'\n",
    "\n",
    "##specify which simulation you want to explore\n",
    "sim='TNG100-1'\n",
    "\"\"\"\n",
    "TNG100-1 is the highest resolution simulation in the 100 Mpc simulation box\n",
    "TNG50-1 is the highest resolution available in a 50 Mpc box\n",
    "TNG300-1 is the largest volume simulation (300 Mpc)\n",
    "Lower resolutions are available with -N replacing -1, allowing for testing resolution dependency\n",
    "'Dark' simulations are also available: these are dark-matter only runs\n",
    "Subboxes are availble that provide higher time resolution\n",
    "For the exercises in this worrkshop, you will need to use a baryonic simulation, we recommend TNG100-1, TNG50-1, or TNG300-1\n",
    "Check all available simulations by uncommenting the line below:\n",
    "\"\"\"\n",
    "r=iapi.get(baseUrl)\n",
    "#print([sim['name'] for sim in r['simulations']])"
   ]
  },
  {
   "cell_type": "code",
   "execution_count": 3,
   "id": "74a7929f",
   "metadata": {},
   "outputs": [
    {
     "name": "stdout",
     "output_type": "stream",
     "text": [
      "http://www.tng-project.org/api/TNG100-1\n",
      "Main high-resolution IllustrisTNG100 run including the full TNG physics model.\n"
     ]
    }
   ],
   "source": [
    "#check the properties of the simulation you have selected\n",
    "simUrl = baseUrl+sim\n",
    "print(simUrl) #view the simulation data in your browser by following the URL (make sure you are logged in!)\n",
    "simdata = iapi.get(simUrl)\n",
    "print(simdata['description'])\n",
    "\n",
    "##uncomment line below to see all the simulation-level information available, or follow the simUrl\n",
    "#print(simdata.keys())\n"
   ]
  },
  {
   "cell_type": "markdown",
   "id": "b6fd8925",
   "metadata": {},
   "source": [
    "#### Exercise: Find value of hubble's constant used in the simulation you chose to explore\n",
    "In simulations, units often include 'little h' or Hubble's constant divided by 100.\n",
    "\n",
    "In these simulations, the value of h is stored in the simulation data as the 'hubble' key."
   ]
  },
  {
   "cell_type": "code",
   "execution_count": 4,
   "id": "db3f1d5b",
   "metadata": {},
   "outputs": [
    {
     "ename": "SyntaxError",
     "evalue": "invalid syntax (4157845934.py, line 2)",
     "output_type": "error",
     "traceback": [
      "\u001b[0;36m  Cell \u001b[0;32mIn[4], line 2\u001b[0;36m\u001b[0m\n\u001b[0;31m    h=\u001b[0m\n\u001b[0m      ^\u001b[0m\n\u001b[0;31mSyntaxError\u001b[0m\u001b[0;31m:\u001b[0m invalid syntax\n"
     ]
    }
   ],
   "source": [
    "##Complete this line\n",
    "h=\n",
    "print(h)"
   ]
  },
  {
   "cell_type": "markdown",
   "id": "07eec44e",
   "metadata": {},
   "source": [
    "### Group catalogs\n",
    "\n",
    "Group catalogs contain properies of all identified halos or subhalos (galaxies) in a given snapshot. These are good for obtaining masses, positions, and other global properties. You can check out details about the available fields here: https://www.tng-project.org/data/docs/specifications/#sec2 \n",
    "\n",
    "In iapi_TNG there are two similar functions that obtain a field for all subhalos or all halos in a given simulation at a given snapshot:\n",
    "\n",
    "> getSubhaloField(field, simulation='TNG100-1', snapshot=99, fileName='tempCat', rewriteFile=1)\n",
    "\n",
    "> getHaloField(field, simulation='TNG100-1', snapshot=99, fileName='tempCat', rewriteFile=1)\n",
    "\n",
    "- field (str): name of field to be returned from the table linked above, e.g. 'SubhaloPos'\n",
    "- simulation (str): name of simulation, e.g. 'TNG100-1'\n",
    "- snapshot (int): snapshot to pull data from. For TNG, snapshot=99 is z=0, which is the default\n",
    "- fileName (str): path to the file where you want to save the data, recommended to avoid repeated API requests\n",
    "- rewriteFile (0 or 1): if 0 (recommended), will attempt to pull from an existing file (fileName) before downloading; if 1 will download and overwrite\n",
    "\n",
    "Now let's fetch the fields we will want for our later analysis"
   ]
  },
  {
   "cell_type": "code",
   "execution_count": 4,
   "id": "76b0b3c7",
   "metadata": {},
   "outputs": [],
   "source": [
    "#the flag field indicates whether a subhalo is cosmological in origin\n",
    "#you will generally only want to use subhalos that have flag=1\n",
    "flag=iapi.getSubhaloField('SubhaloFlag',simulation=sim,fileName=dirc+'catalogs/SubhaloFlag',rewriteFile=0)"
   ]
  },
  {
   "cell_type": "code",
   "execution_count": 5,
   "id": "ed48686f",
   "metadata": {},
   "outputs": [
    {
     "name": "stdout",
     "output_type": "stream",
     "text": [
      "(4371211, 6)\n"
     ]
    }
   ],
   "source": [
    "#let's fetch a field that will tell us about the mass of the galaxy\n",
    "#SubhaloMassType gives the total mass of all bound particles, separated by particle type\n",
    "mass=iapi.getSubhaloField('SubhaloMassType',simulation=sim,fileName=dirc+'catalogs/MassType',rewriteFile=0)\n",
    "print(mass.shape)\n",
    "\n",
    "#note that there are 6 entries for each subhalo, one for each particle type:\n",
    "#0 - gas\n",
    "#1 - dark matter\n",
    "#2 - unused\n",
    "#3 - tracers (you can ignore these)\n",
    "#4 - stars/wind\n",
    "#5 - black holes\n",
    "\n",
    "#Pull the stellar mass: \n",
    "stellar_mass=mass[:,4]\n",
    "\n",
    "#OLIVIA: turn this into an exercise?\n",
    "#check the subhalo catalog for the default units, convert into stellar masses\n",
    "stellar_mass=stellar_mass*10**10/h\n",
    "#print(min(stellar_mass[np.nonzero(stellar_mass)]))"
   ]
  },
  {
   "cell_type": "markdown",
   "id": "169f10ab",
   "metadata": {},
   "source": [
    "#### Exercise 1:\n",
    "\n",
    "There are several other fields relating to galaxy mass. Review those found at the link above and fetch at least one other field relating to mass. Later, we will test the effect of using other definitions of mass on the global star formation main sequence. Generally, you will want to use a mass that is most comparable to how mass was measured in observations you want to compare to.\n",
    "\n",
    "OLIVIA"
   ]
  },
  {
   "cell_type": "code",
   "execution_count": null,
   "id": "37753f17",
   "metadata": {},
   "outputs": [],
   "source": []
  },
  {
   "cell_type": "code",
   "execution_count": 6,
   "id": "f0dca686",
   "metadata": {},
   "outputs": [],
   "source": [
    "sfr_inst = iapi.getSubhaloField('SubhaloSFR',simulation = sim,fileName=dirc+'SubhaloSFR',rewriteFile=0)\n",
    "#the subhalo catalog includes SubhaloSFR, which is the sum of SFRs over all gas particles bound to the subhalo\n",
    "#this is NOT directly comparable to SFRs obtained from observations, \n",
    "#because observational tracers generally detect already formed stars, not stars about to be formed\n",
    "\n",
    "#if we want to get more comparable SFRs, we'll have to dig into particle data or merger trees"
   ]
  },
  {
   "cell_type": "markdown",
   "id": "994ddd38",
   "metadata": {},
   "source": [
    "#### Exercise 2: Metallicities\n",
    "BRYANNE what do you want here\n",
    "OLIVIA set this up"
   ]
  },
  {
   "cell_type": "code",
   "execution_count": 7,
   "id": "853b1bfa",
   "metadata": {},
   "outputs": [],
   "source": [
    "#process the data to make our galaxy catalog\n",
    "#it's useful to keep track of the subhalo ID (subID), the index into the fields\n",
    "subID=np.arange(0,len(flag))\n",
    "\n",
    "#make cuts based on flag, and any other cuts to generate your sample\n",
    "wh_incl=np.nonzero((flag==1))\n",
    "#to make additional cuts, add additional criteria to the line above \n",
    "#e.g. wh_incl=np.nonzero((flag==1) & (stellar_mass>masscut))\n",
    "\n",
    "#Now store fields for our sample in a dictionary\n",
    "##Update with any other fields you would like to store\n",
    "\n",
    "IDs=subID[wh_incl]\n",
    "s_mass=stellar_mass[wh_incl]\n",
    "sfr_i = sfr_inst[wh_incl]\n",
    "\n",
    "galcat = {\n",
    "    'subID' : IDs,\n",
    "    'M_*' : s_mass,\n",
    "    'SFR_inst': sfr_i\n",
    "}\n",
    "\n",
    "#save the galaxy catalog for later use\n",
    "np.save(dirc+'galcat', galcat)\n"
   ]
  },
  {
   "cell_type": "markdown",
   "id": "2e1fc49c",
   "metadata": {},
   "source": [
    "### Merger Trees\n",
    "\n",
    "Tracing a subhalo through cosmic time can be complicated by the major and minor mergers that ultimately form a z=0 galaxy. The merger trees trace the most massive progenitor of a subhalos through previous snapshots. See the TNG data specifications for more information: https://www.tng-project.org/data/docs/specifications/#sec2\n",
    "\n",
    "In this workshop, we will be using the SubLink merger trees.\n",
    "\n",
    "iapi_TNG contains the function gettree(snapnum,subID), which obtains the tree for a given galaxy. The trees contain all the fields in the Halo and Subhalo group catalogs, for each snapshot. Subhalo information will always be for the progenitor of the subID at snapnum. The group/halo of a subhalo may change, so the group information in previous snapshots may not be for the group the subhalo is a member of at snapnum.\n",
    "\n",
    "getredshift(snapnum) is another useful function in iapi_TNG. This returns the redfshift of a given snapshot. "
   ]
  },
  {
   "cell_type": "code",
   "execution_count": 8,
   "id": "574dfaf5",
   "metadata": {},
   "outputs": [
    {
     "name": "stdout",
     "output_type": "stream",
     "text": [
      "2153210\n",
      "<KeysViewHDF5 ['DescendantID', 'FirstProgenitorID', 'FirstSubhaloInFOFGroupID', 'GroupBHMass', 'GroupBHMdot', 'GroupCM', 'GroupFirstSub', 'GroupGasMetalFractions', 'GroupGasMetallicity', 'GroupLen', 'GroupLenType', 'GroupMass', 'GroupMassType', 'GroupNsubs', 'GroupPos', 'GroupSFR', 'GroupStarMetalFractions', 'GroupStarMetallicity', 'GroupVel', 'GroupWindMass', 'Group_M_Crit200', 'Group_M_Crit500', 'Group_M_Mean200', 'Group_M_TopHat200', 'Group_R_Crit200', 'Group_R_Crit500', 'Group_R_Mean200', 'Group_R_TopHat200', 'LastProgenitorID', 'MainLeafProgenitorID', 'Mass', 'MassHistory', 'NextProgenitorID', 'NextSubhaloInFOFGroupID', 'NumParticles', 'RootDescendantID', 'SnapNum', 'SubfindID', 'SubhaloBHMass', 'SubhaloBHMdot', 'SubhaloBfldDisk', 'SubhaloBfldHalo', 'SubhaloCM', 'SubhaloGasMetalFractions', 'SubhaloGasMetalFractionsHalfRad', 'SubhaloGasMetalFractionsMaxRad', 'SubhaloGasMetalFractionsSfr', 'SubhaloGasMetalFractionsSfrWeighted', 'SubhaloGasMetallicity', 'SubhaloGasMetallicityHalfRad', 'SubhaloGasMetallicityMaxRad', 'SubhaloGasMetallicitySfr', 'SubhaloGasMetallicitySfrWeighted', 'SubhaloGrNr', 'SubhaloHalfmassRad', 'SubhaloHalfmassRadType', 'SubhaloID', 'SubhaloIDMostbound', 'SubhaloIDRaw', 'SubhaloLen', 'SubhaloLenType', 'SubhaloMass', 'SubhaloMassInHalfRad', 'SubhaloMassInHalfRadType', 'SubhaloMassInMaxRad', 'SubhaloMassInMaxRadType', 'SubhaloMassInRad', 'SubhaloMassInRadType', 'SubhaloMassType', 'SubhaloParent', 'SubhaloPos', 'SubhaloSFR', 'SubhaloSFRinHalfRad', 'SubhaloSFRinMaxRad', 'SubhaloSFRinRad', 'SubhaloSpin', 'SubhaloStarMetalFractions', 'SubhaloStarMetalFractionsHalfRad', 'SubhaloStarMetalFractionsMaxRad', 'SubhaloStarMetallicity', 'SubhaloStarMetallicityHalfRad', 'SubhaloStarMetallicityMaxRad', 'SubhaloStellarPhotometrics', 'SubhaloStellarPhotometricsMassInRad', 'SubhaloStellarPhotometricsRad', 'SubhaloVel', 'SubhaloVelDisp', 'SubhaloVmax', 'SubhaloVmaxRad', 'SubhaloWindMass', 'TreeID']>\n"
     ]
    }
   ],
   "source": [
    "#Let's explore the history of a random subhalo in our sample\n",
    "sub = np.random.choice(IDs)\n",
    "print(sub)\n",
    "subTreeFile = iapi.gettree(99,sub)\n",
    "\n",
    "#open the hdf5 file that contains the tree\n",
    "subTree= h5py.File(subTreeFile,'r')\n",
    "\n",
    "#What fields are available?\n",
    "print(subTree.keys())\n"
   ]
  },
  {
   "cell_type": "code",
   "execution_count": 9,
   "id": "3ba9e6c0",
   "metadata": {},
   "outputs": [
    {
     "name": "stdout",
     "output_type": "stream",
     "text": [
      "99\n",
      "13\n"
     ]
    }
   ],
   "source": [
    "#pull the snapshot numbers that correspond to each entry in each of the fields for this tree\n",
    "snaps = subTree['SnapNum'][:]\n",
    "print(snaps[0])\n",
    "#notice how the first entry corresponds to z=0! The latest entries are first, while the earliest entries are last\n",
    "print(snaps[-1])\n",
    "#Some subhalos have shorter merger trees than others\n",
    "#If the random subhalo you selected earlier has a short merger tree (earliest snapshot > ~70), rerun the previous block"
   ]
  },
  {
   "cell_type": "code",
   "execution_count": 13,
   "id": "83006beb",
   "metadata": {},
   "outputs": [
    {
     "name": "stdout",
     "output_type": "stream",
     "text": [
      "6.0107573988449\n",
      "[2.22044605e-16 9.52166697e-03 2.39744284e-02 3.37243719e-02\n",
      " 4.85236300e-02 5.85073228e-02 7.36613847e-02 8.38844308e-02\n",
      " 9.94018026e-02 1.09869940e-01 1.25759332e-01 1.41876204e-01\n",
      " 1.52748769e-01 1.69252033e-01 1.80385262e-01 1.97284182e-01\n",
      " 2.14425036e-01 2.25988386e-01 2.43540182e-01 2.61343256e-01\n",
      " 2.73353347e-01 2.97717685e-01 3.10074120e-01 3.28829724e-01\n",
      " 3.47853842e-01 3.60687657e-01 3.80167867e-01 3.99926965e-01\n",
      " 4.19968942e-01 4.40297849e-01 4.60917794e-01 4.81832943e-01\n",
      " 5.03047523e-01 5.24565820e-01 5.46392183e-01 5.75980845e-01\n",
      " 5.98543288e-01 6.21428745e-01 6.44641841e-01 6.76110411e-01\n",
      " 7.00106354e-01 7.32636182e-01 7.57441373e-01 7.91068249e-01\n",
      " 8.16709979e-01 8.51470901e-01 8.86896938e-01 9.23000816e-01\n",
      " 9.50531352e-01 9.97294226e-01 1.03551045e+00 1.07445789e+00\n",
      " 1.11415056e+00 1.15460271e+00 1.20625808e+00 1.24847261e+00\n",
      " 1.30237846e+00 1.35757667e+00 1.41409822e+00 1.49551217e+00\n",
      " 1.53123903e+00 1.60423452e+00 1.66666956e+00 1.74357057e+00\n",
      " 1.82268925e+00 1.90408954e+00 2.00202814e+00 2.10326965e+00\n",
      " 2.20792547e+00 2.31611074e+00 2.44422570e+00 2.57729027e+00\n",
      " 2.73314262e+00 2.89578501e+00 3.00813107e+00 3.28303306e+00\n",
      " 3.49086137e+00 3.70877426e+00 4.00794511e+00 4.17683491e+00\n",
      " 4.42803374e+00 4.66451770e+00 4.99593347e+00 5.22758097e+00\n",
      " 5.52976581e+00 6.01075740e+00]\n"
     ]
    }
   ],
   "source": [
    "#What redshift does the earliest snapshot correspond to?\n",
    "print(iapi.getredshift(snaps[-1]))\n",
    "\n",
    "#construct an array of redshifts corresponding to snaps\n",
    "z=np.empty(len(snaps))\n",
    "for i in range(0,len(snaps)):\n",
    "    #this may take a few minutes\n",
    "    z[i] = iapi.getredshift(snaps[i])\n",
    "#print(z)"
   ]
  },
  {
   "cell_type": "markdown",
   "id": "717d31f6",
   "metadata": {},
   "source": [
    "#### Exercise: Construct a plot of star formation rate versus redshift for this subhalo\n"
   ]
  },
  {
   "cell_type": "code",
   "execution_count": null,
   "id": "d583ada1",
   "metadata": {},
   "outputs": [],
   "source": [
    "### do the exercise here\n",
    "#hint: pull the SubhaloSFR field from the merger tree first\n",
    "\n"
   ]
  },
  {
   "cell_type": "code",
   "execution_count": 1,
   "id": "da1c7524",
   "metadata": {},
   "outputs": [],
   "source": [
    "#BRYANNE: use astropy to pull timescales and get comparable redshifts to get sfrs from?"
   ]
  },
  {
   "cell_type": "markdown",
   "id": "9d69cc8c",
   "metadata": {},
   "source": [
    "### Particle Data\n",
    "BRYANNE: introduce"
   ]
  },
  {
   "cell_type": "code",
   "execution_count": null,
   "id": "aa760a46",
   "metadata": {},
   "outputs": [],
   "source": [
    "parttype='stars'\n",
    "particle_fields = 'Coordinates,Masses,GFM_Metallicity,GFM_StellarFormationTime,GFM_InitialMass,GFM_StellarPhotometrics'\n",
    "#Note that for time-averaged SFR calculations, the initial mass of a star should be used\n",
    "#BRYANNE: link to Donnarri erratum\n",
    "\n",
    "cut_file = getSubcutout(sub, parttype, particle_fields, sim=sim, snapnum=99, fName=dirc+parttype+'_'+sub)\n",
    "\n",
    "with h5py.File(cut_file,'r') as f:\n",
    "    #change PartType4 to PartType0 if working with gas particles\n",
    "    mass = np.asarray(f['PartType4']['Masses'])\n",
    "    SF_time = np.asarray(f['PartType4']['GFM_StellarFormationTime'])\n",
    "    iMass = np.asarray(f['PartType4']['GFM_InitialMass'])\n",
    "    \n",
    "    #in this example, we will use r-band magnitude for luminosity weighting\n",
    "    #use a different band by selecting a different column from GFM_StellarPhotometrics\n",
    "    #check data specifications to see which column corresponds to which band\n",
    "    rmag = np.asarray(f['PartType4']['GFM_StellarPhotometrics'][:,5]\n",
    "\n",
    "\n"
   ]
  }
 ],
 "metadata": {
  "kernelspec": {
   "display_name": "Python 3 (ipykernel)",
   "language": "python",
   "name": "python3"
  },
  "language_info": {
   "codemirror_mode": {
    "name": "ipython",
    "version": 3
   },
   "file_extension": ".py",
   "mimetype": "text/x-python",
   "name": "python",
   "nbconvert_exporter": "python",
   "pygments_lexer": "ipython3",
   "version": "3.10.12"
  }
 },
 "nbformat": 4,
 "nbformat_minor": 5
}
