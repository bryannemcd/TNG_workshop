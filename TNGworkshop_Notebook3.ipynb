{
 "cells": [
  {
   "cell_type": "markdown",
   "id": "7b18d335",
   "metadata": {},
   "source": [
    "# Workshop 3: Exploring IllustrisTNG simulations to derive observationally comparable star formation rates and metallicities\n",
    "\n",
    "## Notebook 3: Deriving observationally comparable luminosity-weighted ages and SFRs\n",
    "\n",
    "Created by Bryanne McDonough and Olivia Curtis",
    "\n",
    "In this notebook, we will use the particle data we pulled for one TNG galaxy in Notebook 1 to demonstrate how the particle data can be used to obtain observationally comparable parameters related to star formation."
   ]
  },
  {
   "cell_type": "code",
   "execution_count": null,
   "id": "cc63e32b",
   "metadata": {},
   "outputs": [],
   "source": [
    "import numpy as np\n",
    "import h5py\n",
    "import matplotlib.pyplot as plt\n",
    "import iapi_TNG as iapi\n",
    "#TNG saves particle birth times as scale factors\n",
    "#we'll use astropy to convert these into lookback times to get ages\n",
    "from astropy.cosmology import Planck15\n",
    "import astropy.units as u\n",
    "\n",
    "\n",
    "\n",
    "### Update this directory for your machine ####\n",
    "dirc='/projectnb/res-star/TNG_workshop/'\n",
    "\n",
    "h=0.6774 # from notebook 1 or data background"
   ]
  },
  {
   "cell_type": "markdown",
   "id": "2c2dde50",
   "metadata": {},
   "source": [
    "First, load the galaxy catalog that we made in Notebook 1 and get the relevent fields that we will be using here."
   ]
  },
  {
   "cell_type": "code",
   "execution_count": null,
   "id": "0d724839",
   "metadata": {},
   "outputs": [],
   "source": [
    "dat=np.load(dirc+'galcat.npy', allow_pickle=True).item()\n",
    "IDs=dat['subID']\n",
    "gal_pos= dat['pos']"
   ]
  },
  {
   "cell_type": "markdown",
   "id": "05e3bf87",
   "metadata": {},
   "source": [
    "Next, load the particle data for the cutout that we saved for galaxy subID 565261 in Notebook 1."
   ]
  },
  {
   "cell_type": "code",
   "execution_count": null,
   "id": "2c0bc46b",
   "metadata": {},
   "outputs": [],
   "source": [
    "my_gal = 565261 #subID of the galaxy cutout you obtained\n",
    "\n",
    "#ID into galcat for my_gal\n",
    "sub_ind= np.where(IDs==my_gal)[0][0]\n",
    "print(sub_ind)\n",
    "parttype='stars'\n",
    "\n",
    "#path to cutout file\n",
    "cut_file = dirc+'cutouts/'+parttype+'_'+str(my_gal)+'.hdf5'\n",
    "\n",
    "#pull particle data out of the hdf5 cutout file\n",
    "with h5py.File(cut_file,'r') as f:\n",
    "    #change PartType4 to PartType0 if working with gas particles\n",
    "    #all units can be found in the \n",
    "\n",
    "    mass = np.asarray(f['PartType4']['Masses']) # in units of 10^10 M_sun h^-1\n",
    "    SF_scale = np.asarray(f['PartType4']['GFM_StellarFormationTime']) #given as scale factor\n",
    "    iMass = np.asarray(f['PartType4']['GFM_InitialMass']) # in units of 10^10 M_sun h^-1\n",
    "    \n",
    "    #get particle positions to make aperture cuts later\n",
    "    part_pos = np.asarray(f['PartType4']['Coordinates'])  #in units of ckpc/h (comoving kiloparsecs)\n",
    "    #for deriving SFRs, birth positions are also avaialable, but that isn't information avaialble in observations\n",
    "    \n",
    "    #in this example, we will use r-band magnitude for luminosity weighting\n",
    "    #use a different band by selecting a different column from GFM_StellarPhotometrics\n",
    "    #check data specifications to see which column corresponds to which band\n",
    "    rmag = np.asarray(f['PartType4']['GFM_StellarPhotometrics'][:,5])"
   ]
  },
  {
   "cell_type": "markdown",
   "id": "081793a8",
   "metadata": {},
   "source": [
    "### Converting scale factors to ages\n",
    "\n",
    "The scale factor, a, is related to redshift by: $\\frac{1}{a} = 1+z $.\n",
    "\n",
    "TNG uses Planck15 cosmology (from background information), we will use Astropy to convert redshifts into lookback times.\n",
    "\n",
    "First, wind-phase particles have scale factors <0, so we should exclude those."
   ]
  },
  {
   "cell_type": "code",
   "execution_count": null,
   "id": "187fad8c",
   "metadata": {},
   "outputs": [],
   "source": [
    "wh_stars = np.nonzero((SF_scale>0)) #select only non-wind particles\n",
    "mass=mass[wh_stars] #instanteous mass of stellar particle\n",
    "SF_scale=SF_scale[wh_stars] #scale factor when formed\n",
    "iMass = iMass[wh_stars] # mass of particle when formed\n",
    "part_pos = part_pos[wh_stars] #instantaneous positions\n",
    "rmag= rmag[wh_stars] # r-band magnitude"
   ]
  },
  {
   "cell_type": "markdown",
   "id": "5c4bc0e7",
   "metadata": {},
   "source": [
    "Next, conver our scale factors into redshifts"
   ]
  },
  {
   "cell_type": "code",
   "execution_count": null,
   "id": "e7e75539",
   "metadata": {},
   "outputs": [],
   "source": [
    "# convert scale factor to redshift\n",
    "SF_z=1/SF_scale-1"
   ]
  },
  {
   "cell_type": "markdown",
   "id": "dbc6a51b",
   "metadata": {},
   "source": [
    "Then, use astropy to get ages, given in Gyr, divide out the unit for later computation"
   ]
  },
  {
   "cell_type": "code",
   "execution_count": null,
   "id": "31d3419b",
   "metadata": {},
   "outputs": [],
   "source": [
    "ages=Planck15.lookback_time(SF_z)/u.Gyr #ages are still in Gyr, just without the unit astropy attaches\n",
    "print(len(ages))\n",
    "print(part_pos[0,:])"
   ]
  },
  {
   "cell_type": "markdown",
   "id": "b267ec5b",
   "metadata": {},
   "source": [
    "#### Exercise: Create a histogram of the ages in this galaxy\n"
   ]
  },
  {
   "cell_type": "code",
   "execution_count": null,
   "id": "a6a8a910",
   "metadata": {
    "scrolled": true
   },
   "outputs": [],
   "source": [
    "### Create a histogram of the stellar ages in this galaxy ###\n"
   ]
  },
  {
   "cell_type": "markdown",
   "id": "eac34dff",
   "metadata": {},
   "source": [
    "### Obtain time-averaged SFRs\n",
    "Now that we have ages, we can compute SFRs by finding the mass of stars that was formed in the last X years."
   ]
  },
  {
   "cell_type": "code",
   "execution_count": null,
   "id": "e08998c1",
   "metadata": {},
   "outputs": [],
   "source": [
    "#find stars formed in the last 10 Myrs, remember ages is in Gyr\n",
    "wh10 = np.nonzero((ages<=0.02))\n",
    "print(len(ages[wh10]))"
   ]
  },
  {
   "cell_type": "markdown",
   "id": "59fddbf0",
   "metadata": {},
   "source": [
    "The H-alpha star formation tracers makes use of stars that are 10-20 Myr old. Would this galaxy have detectable star formation in H-alpha?\n",
    "\n",
    "If no star formation has happened in the last 20 Myr, we'll need a longer timescale to obain a non-zero SFR. The D4000-Angstrom break SF tracer roughly traces stars with ages ~100-200 Myr."
   ]
  },
  {
   "cell_type": "code",
   "execution_count": null,
   "id": "9bfda207",
   "metadata": {},
   "outputs": [],
   "source": [
    "#Adopt a 100 Myr timescale\n",
    "wh100 = np.nonzero((ages<=0.1))\n",
    "print(len(ages[wh100]))"
   ]
  },
  {
   "cell_type": "markdown",
   "id": "b5813867",
   "metadata": {},
   "source": [
    "#### Exercise: determine the coefficient needed to convert mass formed into a SFR\n",
    "\n",
    "Here, we use the mass of the stellar particles when they formed, for the reasons outlined in the erratum to Donnari et al (2019): https://academic.oup.com/mnras/article/489/3/3036/5558254.\n",
    "\n",
    "We will first take the sum of all stellar mass that formed within the last 100 Myr."
   ]
  },
  {
   "cell_type": "code",
   "execution_count": null,
   "id": "a1059060",
   "metadata": {},
   "outputs": [],
   "source": [
    "mass100= np.sum(iMass[wh100])"
   ]
  },
  {
   "cell_type": "markdown",
   "id": "9af88fc1",
   "metadata": {},
   "source": [
    "Next, we will define t to be the factor that mass100 should be multiplied by to have units of solar masses per year. Fill in the following code block with this definition."
   ]
  },
  {
   "cell_type": "code",
   "execution_count": null,
   "id": "dab75993",
   "metadata": {},
   "outputs": [],
   "source": [
    "### Hint: You will need to take into account the timescale and the units of mass100 ###\n",
    "\n",
    "t= #Fill in the code here\n",
    "\n",
    "SFR100 =t*mass100\n",
    "print(np.log10(SFR100), 'M_sun/yr')\n",
    "#Answer: t=100/h  : mass100 in solar masses: mass100/h*10**10; 100 Myr in yr: (100*10**6)\n",
    "#when mass in solar masses is divided by the timescale, reduces to: 100/h"
   ]
  },
  {
   "cell_type": "markdown",
   "id": "39f808ed",
   "metadata": {},
   "source": [
    "#### Extension: Determine SFR for a different timescale\n",
    "\n",
    "Consider timescales of popular SFR tracers "
   ]
  },
  {
   "cell_type": "code",
   "execution_count": null,
   "id": "2e47cdf8",
   "metadata": {},
   "outputs": [],
   "source": [
    "#Hint: you'll need a new factor "
   ]
  },
  {
   "cell_type": "markdown",
   "id": "dae8a65f",
   "metadata": {},
   "source": [
    "See more about time-averaged SFRs from the TNG simulation and see the effect on the star-forming main sequence in Donnari et al (2019): https://academic.oup.com/mnras/article/485/4/4817/5376508.\n",
    "\n",
    "See Section 4 of Caplar & Tacchella (2019) for a summary of common SFR tracers and considerations regarding the timescales of those tracers: https://ui.adsabs.harvard.edu/abs/2019MNRAS.487.3845C/abstract. "
   ]
  },
  {
   "cell_type": "markdown",
   "id": "3a5fec40",
   "metadata": {},
   "source": [
    "### Determining luminosity-weighted ages\n",
    "Luminosity-weighted age is another measurement that can be found in observational studies. Instead of finding an overall average age, luminosity-weighting emphasizes recent star formation, as the most luminous stars have the shortest lifetimes.\n",
    "\n",
    "The luminosity-weighted age, ${\\rm age_L}$, in the simulation is defined by: $\\log_{10} {\\rm age_L} = <x> = \\frac{\\Sigma_k L_k x_k}{\\Sigma_k L_k} $,\n",
    "\n",
    "where $x_k$ is the $\\log_{10}$ of the kth particle's formation age and $L_k$ is the r-band luminosity of the kth particle.\n",
    "\n",
    "While we are using r-band luminosities here, this can be altered in order to better compare to an observational study."
   ]
  },
  {
   "cell_type": "code",
   "execution_count": null,
   "id": "0fa7ca24",
   "metadata": {},
   "outputs": [],
   "source": [
    "# compute the luminosity weighted age over all stellar particles in this galaxy\n",
    "#remember to log the ages after converting Gyr to yrs\n",
    "ageL = np.sum(rmag*np.log10(ages*10**9))/np.sum(rmag)\n",
    "print('log_{10}=', ageL)"
   ]
  },
  {
   "cell_type": "markdown",
   "id": "01b39bd8",
   "metadata": {},
   "source": [
    "Advice for efficiently computing luminosity-weighted ages over several galaxies in radial bins: you can construct radial profiles of ${\\rm age_L}$ for individual galaxies and save the top and bottom sums separately. When binning galaxies together, you can sum the sums, rather than summing over all particles in each galaxy. "
   ]
  },
  {
   "cell_type": "markdown",
   "id": "9c1d89ea",
   "metadata": {},
   "source": [
    "### Making aperture cuts\n",
    "\n",
    "Observations are often computing SFRs or luminosity-weighted ages in certain apertures. For example, the SDSS fiber aperture corresponds roughly to 5 kpc. In order to make aperture cuts, we'll need to get the distances of particles to the center of the galaxy. \n",
    "\n",
    "Getting relative distances is complicated by the fact that TNG is simulating within a repeating box. That is, it's possible that this galaxy exists at the \"edge\" of the box. As an illustrative example, if the box length, one particle could have x=74.9999 and another in the same galaxy could have x=0.00001. \n",
    "\n",
    "Here's some code to get relative distances, accounting for the repeating box:"
   ]
  },
  {
   "cell_type": "code",
   "execution_count": null,
   "id": "3a49e23f",
   "metadata": {},
   "outputs": [],
   "source": [
    "#get box length\n",
    "baseUrl = 'http://www.tng-project.org/api/'\n",
    "sim='TNG100-1' ### update if you are looking at a different simulation ###\n",
    "simUrl = baseUrl+sim\n",
    "simdata = iapi.get(simUrl)\n",
    "boxsize=simdata['boxsize']\n",
    "print(boxsize)\n",
    "#should be 75000 kpc/h"
   ]
  },
  {
   "cell_type": "code",
   "execution_count": null,
   "id": "7a640b4d",
   "metadata": {},
   "outputs": [],
   "source": [
    "#get position of this galaxy\n",
    "my_gal_pos = gal_pos[sub_ind]\n",
    "\n",
    "#particle positions and galaxy positions are given in comoving kiloparsecs (ckpc)/h\n",
    "#If working at z=0, 1 comoving kpc = 1 physical kpc\n",
    "#so we just need to account for h\n",
    "my_gal_pos_h= my_gal_pos/h\n",
    "part_pos_h = part_pos/h\n",
    "boxsize_h=boxsize/h\n",
    "\n",
    "#get relative positions before accounting for box size\n",
    "dx = part_pos_h[:,0] - my_gal_pos_h[0]\n",
    "dy = part_pos_h[:,1] - my_gal_pos_h[1]\n",
    "dz = part_pos_h[:,2] - my_gal_pos_h[2]\n",
    "\n",
    "#if dx, dy, or dz is greater than the half the box size, \n",
    "#we need to adjust the positions to account for repeating box\n",
    "halfbox=boxsize_h/2\n",
    "\n",
    "#Wherever less than halfbox, keep dx/dy/dz, where greater than halfbox, subtract boxsize\n",
    "dx=np.where((dx<halfbox),dx,dx-boxsize)\n",
    "dy=np.where((dy<halfbox),dy,dy-boxsize)\n",
    "dz=np.where(dz<halfbox,dz,dz-boxsize)\n",
    "\n",
    "#account for negative cases\n",
    "neghalfbox=-1*halfbox\n",
    "dx=np.where(dx>neghalfbox,dx,dx+boxsize)\n",
    "dy=np.where(dy>neghalfbox,dy,dy+boxsize)\n",
    "dz=np.where(dz>neghalfbox,dz,dz+boxsize)\n",
    "\n",
    "#while we could use absolute values to avoid accounting for negatives separately, \n",
    "#this is necessary if you want to save the relative positions \n",
    "\n",
    "#now find radial distances, for computational efficiency, you can keep this as the radial distance squared\n",
    "rsq = np.add(np.square(dx),np.square(dy),np.square(dz))\n",
    "print(rsq[0]) #make sure this is a reasonable number"
   ]
  },
  {
   "cell_type": "markdown",
   "id": "a63c1a07",
   "metadata": {},
   "source": [
    "### Exercise: Compute luminosity-weighted age or time-averaged SFR within a certain aperture\n",
    "For example, typical SDSS fiber covers 5 physical kpc, or particles with rsq<5^2\n",
    "\n",
    "You can also go back to Notebook 1 and save radii to the galaxy catalog (galcat). The subhalo fields contain radii computed in several different ways. There are also supplementary catalogs that compute radii, like this one that computes half-light radii: https://www.tng-project.org/data/docs/specifications/#sec5e"
   ]
  },
  {
   "cell_type": "code",
   "execution_count": null,
   "id": "084b75e1",
   "metadata": {},
   "outputs": [],
   "source": [
    "###Compute parameters for only particles within a given aperture ###"
   ]
  }
 ],
 "metadata": {
  "kernelspec": {
   "display_name": "Python 3 (ipykernel)",
   "language": "python",
   "name": "python3"
  },
  "language_info": {
   "codemirror_mode": {
    "name": "ipython",
    "version": 3
   },
   "file_extension": ".py",
   "mimetype": "text/x-python",
   "name": "python",
   "nbconvert_exporter": "python",
   "pygments_lexer": "ipython3",
   "version": "3.10.12"
  }
 },
 "nbformat": 4,
 "nbformat_minor": 5
}
