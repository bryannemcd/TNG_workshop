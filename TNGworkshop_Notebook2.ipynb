{
 "cells": [
  {
   "cell_type": "markdown",
   "id": "73aff22b",
   "metadata": {},
   "source": [
    "# Workshop 3: Exploring IllustrisTNG simulations to derive observationally comparable star formation rates and metallicities\n",
    "\n",
    "## Notebook 2: The global star forming main sequence\n",
    "\n",
    "Created by Bryanne McDonough and Olivia Curtis",
    "\n",
    "In this notebook, we will use the data we pulled from the TNG simulation in Notebook 1 to construct a global star forming main sequence (M_* - SFR) relation, and perform a ridge line fit. "
   ]
  },
  {
   "cell_type": "code",
   "execution_count": 1,
   "id": "a8636303",
   "metadata": {},
   "outputs": [],
   "source": [
    "import numpy as np\n",
    "import matplotlib.pyplot as plt\n",
    "from scipy.optimize import curve_fit\n",
    "import numpy.ma as ma\n",
    "\n",
    "### Update this directory! ###\n",
    "#dirc='/path/to/directory/'\n",
    "dirc='/projectnb/res-star/TNG_workshop/'"
   ]
  },
  {
   "cell_type": "markdown",
   "id": "7628c8fe",
   "metadata": {},
   "source": [
    "## Loading the data\n",
    "First, let's load in the galaxy catalog we generated in the previous notebook.\n",
    "\n",
    "Recall that we saved the galaxy catalog as a dictionary, so we can print its keys to see \n",
    "what data we have to work with."
   ]
  },
  {
   "cell_type": "code",
   "execution_count": null,
   "id": "e2aa09b6",
   "metadata": {},
   "outputs": [],
   "source": [
    "#loads the dictionary and prints its keys\n",
    "dat=np.load(dirc+'galcat.npy', allow_pickle=True).item()\n",
    "print(dat.keys())"
   ]
  },
  {
   "cell_type": "markdown",
   "id": "9e882aae",
   "metadata": {},
   "source": [
    "Now, let's grab the variables that we will be working with in this notebook. "
   ]
  },
  {
   "cell_type": "code",
   "execution_count": 3,
   "id": "c2912c7f",
   "metadata": {},
   "outputs": [],
   "source": [
    "#unpacking stellar mass, instanteous SFRs, and SFRs over the past 10 Myrs\n",
    "mass= dat['M_*'] #Units M_*\n",
    "SFR_i = dat['SFR_inst'] #Units M_\\odot / yr\n",
    "SFR_10 = dat['SFR_all_10'] #Units M_\\odot /yr\n",
    "\n",
    "#Feel free to unpack any other variables that you may have saved!"
   ]
  },
  {
   "cell_type": "markdown",
   "id": "e1b0b754",
   "metadata": {},
   "source": [
    "## Plotting the M_* - SFR relation\n",
    "\n",
    "For now, let's just use the instantaneous SFRs.\n",
    "\n",
    "Let's start by exploring our data. First, take the log10 of the data"
   ]
  },
  {
   "cell_type": "code",
   "execution_count": null,
   "id": "89f28655",
   "metadata": {},
   "outputs": [],
   "source": [
    "#take the log of mass and SFR\n",
    "logmass = np.log10(mass)\n",
    "logSFR = np.log10(SFR_i)\n",
    "\n",
    "#you should get a runetime warning here, ignore it for now."
   ]
  },
  {
   "cell_type": "markdown",
   "id": "fdd67a54",
   "metadata": {},
   "source": [
    "Next, get the minima, medians, and maxima of each array "
   ]
  },
  {
   "cell_type": "code",
   "execution_count": null,
   "id": "6a3d6116",
   "metadata": {},
   "outputs": [],
   "source": [
    "#get and print the stellar mass values\n",
    "min_logmass = min(logmass)\n",
    "median_logmass = np.median(logmass)\n",
    "max_logmass = max(logmass)\n",
    "\n",
    "print(\"log10(mass) min:    \", min_logmass)\n",
    "print(\"log10(mass) median: \", median_logmass)\n",
    "print(\"log10(mass) max:    \", max_logmass)"
   ]
  },
  {
   "cell_type": "markdown",
   "id": "02318d4a",
   "metadata": {},
   "source": [
    "Let's do the same for the instantaneous star formation rates"
   ]
  },
  {
   "cell_type": "code",
   "execution_count": null,
   "id": "733cb92a",
   "metadata": {},
   "outputs": [],
   "source": [
    "#get and print the stellar mass values\n",
    "min_logSFR = min(logSFR)\n",
    "median_logSFR = np.median(logSFR)\n",
    "max_logSFR = max(logSFR)\n",
    "\n",
    "print(\"log10(SFR) min:    \", min_logSFR)\n",
    "print(\"log10(SFR) median: \", median_logSFR)\n",
    "print(\"log10(SFR) max:    \", max_logSFR)"
   ]
  },
  {
   "cell_type": "markdown",
   "id": "3751c770",
   "metadata": {},
   "source": [
    "**Notice:** Some of the galaxies in our sample have SFR=0. This is due to the minimum baryonic mass of a particle in the simulations. Thus, low amounts of gas and star formation will be unresolved. You can check the minimum baryonic mass for a given simulation in the table here: https://www.tng-project.org/data/docs/background/#sec1\n",
    "\n",
    "In order to visualize the quenched galaxies on our diagram, you can impose a fixed specific SFR. However, let's stick to the galaxies with resolved star formation.\n",
    "\n",
    "Now, let's make a 2D histogram of the SFR - M_* plane using matplotlib. We will be using matplotlib.pyplot.hist2d for this, which you can read about here: https://matplotlib.org/stable/api/_as_gen/matplotlib.pyplot.hist2d.html"
   ]
  },
  {
   "cell_type": "code",
   "execution_count": 7,
   "id": "e0cfce9e",
   "metadata": {},
   "outputs": [],
   "source": [
    "#If you are unsure how to use hist2d,\n",
    "#then run this block of code to read its \n",
    "#documentation in Jupyter\n",
    "plt.hist2d?"
   ]
  },
  {
   "cell_type": "code",
   "execution_count": null,
   "id": "9aa6baf6",
   "metadata": {},
   "outputs": [],
   "source": [
    "#Call hist 2D. The final histogram, hist, will\n",
    "#be a 100x100 array containing the number\n",
    "#of galaxies in each bin.\n",
    "hist, xedges, yedges, image = plt.hist2d(logmass[np.isfinite(logSFR)], \\\n",
    "                                         logSFR[np.isfinite(logSFR)], \\\n",
    "                                         bins=100, cmin=1)\n",
    "\n",
    "print(\"The shape of hist is: \", hist.shape)\n",
    "\n",
    "#Add a vertical colorbar to the figure and label it\n",
    "cbar=plt.colorbar()\n",
    "cbar.set_label('$N_{\\mathrm{galaxies}}$', rotation=90, fontsize=12)\n",
    "\n",
    "#Label the axes\n",
    "plt.xlabel('log($M_*$ [$M_\\odot$])',fontsize=12)\n",
    "plt.ylabel('log(SFR [$M_\\odot$/yr])',fontsize=12)\n",
    "\n",
    "#Change the style of the tick marks\n",
    "plt.tick_params(axis='both', direction='in', \\\n",
    "                width=1.25, labelsize='medium', \\\n",
    "                which='both', top=True, right=True)"
   ]
  },
  {
   "cell_type": "markdown",
   "id": "8f805fec",
   "metadata": {},
   "source": [
    "## Performing a ridge line fit\n",
    "\n",
    "The most common main sequence fit uses ordinary least squares to fit a line to all the data. But the main sequence isn't exactly linear, and different samples can bias the slope that is obtained. Renzini & Peng (2015) argue that a more objective definition is a so-called 'ridge line' fit: https://ui.adsabs.harvard.edu/abs/2015ApJ...801L..29R/abstract. Functionally, this means we will fit to the mode of the data, or the pixel with the highest count in each mass bin.\n",
    "\n",
    "That is, for each column in the above figure, we want to find the row that contains the most galaxies. Keep in mind that hist is a 100x100 array, so we will ultimately be saving the midpoints of rows and columns."
   ]
  },
  {
   "cell_type": "markdown",
   "id": "1f82af8e",
   "metadata": {},
   "source": [
    "Start by instantiating two empty arrays.\n",
    "The variable fMs will hold the midpoint of each column, \n",
    "and fSFR will hold the midpoint of the row that has the most number of galaxies in each column."
   ]
  },
  {
   "cell_type": "code",
   "execution_count": 9,
   "id": "eeb9bbb9",
   "metadata": {},
   "outputs": [],
   "source": [
    "#instantiate two empty arrays that we will populate later\n",
    "#recall that hist is a size 100x100 array.\n",
    "fMs=np.empty(100)\n",
    "fSFR=np.empty(100)"
   ]
  },
  {
   "cell_type": "markdown",
   "id": "58a01d85",
   "metadata": {},
   "source": [
    "Next, let's remove any cells from hist that did not contain any galaxies (i.e., any cells whose value is NaN). "
   ]
  },
  {
   "cell_type": "code",
   "execution_count": 10,
   "id": "0c96b933",
   "metadata": {},
   "outputs": [],
   "source": [
    "#find all NaN cells in hist\n",
    "mask=np.isnan(hist)\n",
    "#mask out the invalid cells\n",
    "goodhist=ma.masked_array(hist, mask=mask)"
   ]
  },
  {
   "cell_type": "markdown",
   "id": "6435f9eb",
   "metadata": {},
   "source": [
    "Let's print hist and goodhist to verify the mask did what we want."
   ]
  },
  {
   "cell_type": "code",
   "execution_count": null,
   "id": "6db09af3",
   "metadata": {},
   "outputs": [],
   "source": [
    "print(hist)\n",
    "print(\"\\n\")\n",
    "print(goodhist)"
   ]
  },
  {
   "cell_type": "markdown",
   "id": "7bcd5aa2",
   "metadata": {},
   "source": [
    "Notice that goodhist is still a 100x100 array"
   ]
  },
  {
   "cell_type": "code",
   "execution_count": null,
   "id": "6f44d4fe",
   "metadata": {},
   "outputs": [],
   "source": [
    "print(goodhist.shape)"
   ]
  },
  {
   "cell_type": "markdown",
   "id": "67a1a9a4",
   "metadata": {},
   "source": [
    "Next, we will loop over each column in the histogram. We will find the pixel in each column that contains the most number of galaxies, saving the midpoints of the pixel into fMs and fSFR.\n",
    "\n",
    "We will thus find the (M_s,SFR) points where histogram is maxed.\n",
    "Recall that we defined xedges and yedges when we called hist2d.\n",
    "Here, xedges contains the values of the bin edges along the \n",
    "x-axis (i.e., log(Ms)), and yedges contains the\n",
    "values of the bin edges along the y-axis\n",
    "(i.e., log(SFR))."
   ]
  },
  {
   "cell_type": "code",
   "execution_count": 13,
   "id": "951d277b",
   "metadata": {},
   "outputs": [],
   "source": [
    "\"\"\"\n",
    "pseudo code for the loop:\n",
    "\n",
    "for each column do:\n",
    "\n",
    "    save the midpoint of the column\n",
    "\n",
    "    find the index of the row \n",
    "    that contains the most galaxies,\n",
    "    call it hmax\n",
    "    \n",
    "    save the midpoint of the row that\n",
    "    corresponds to hmax.\n",
    "    \n",
    "end do\n",
    "\"\"\"\n",
    "\n",
    "for i in range(0, len(xedges)-1):\n",
    "    fMs[i]=(xedges[i]+xedges[i+1])/2.\n",
    "    hmax=np.argmax(goodhist[i,:])\n",
    "    fSFR[i]=(yedges[hmax]+yedges[hmax+1])/2."
   ]
  },
  {
   "cell_type": "code",
   "execution_count": null,
   "id": "7ea42d0d",
   "metadata": {},
   "outputs": [],
   "source": [
    "#let's check if the modes that were found are reasonable\n",
    "\n",
    "plt.scatter(fMs,fSFR)\n",
    "plt.xlabel('log($M_*$ [$M_\\odot$])',fontsize=12)\n",
    "plt.ylabel('log(SFR [$M_\\odot$/yr])',fontsize=12)"
   ]
  },
  {
   "cell_type": "markdown",
   "id": "e30b8dea",
   "metadata": {},
   "source": [
    "Now, we want to fit a line to this plot.\n",
    "\n",
    "First, impose reasonable limits overwhich the main sequence appear linear. Pull the values of fMs and fSFR where this is the case."
   ]
  },
  {
   "cell_type": "code",
   "execution_count": 15,
   "id": "f503aa62",
   "metadata": {
    "scrolled": true
   },
   "outputs": [],
   "source": [
    "wh=np.nonzero((fMs>8.25) &(fMs<10.))\n",
    "masked_fMs = fMs[wh]\n",
    "masked_fSFR = fSFR[wh]"
   ]
  },
  {
   "cell_type": "markdown",
   "id": "8e908c5d",
   "metadata": {},
   "source": [
    "Next, define the equation for a line that we will be using with scipy's curve_fit routine (see https://docs.scipy.org/doc/scipy/reference/generated/scipy.optimize.curve_fit.html)"
   ]
  },
  {
   "cell_type": "code",
   "execution_count": 16,
   "id": "353fdd24",
   "metadata": {},
   "outputs": [],
   "source": [
    "#define a function to fit to\n",
    "def line(x,A,B): \n",
    "    return(A*x+B)"
   ]
  },
  {
   "cell_type": "markdown",
   "id": "cc81c357",
   "metadata": {},
   "source": [
    "Use scipy.curve_fit to find the best-fit parameters to the line"
   ]
  },
  {
   "cell_type": "code",
   "execution_count": 17,
   "id": "ab55811c",
   "metadata": {},
   "outputs": [],
   "source": [
    "popt, pcov = curve_fit(line, masked_fMs, masked_fSFR)"
   ]
  },
  {
   "cell_type": "markdown",
   "id": "45b021ec",
   "metadata": {},
   "source": [
    "Lastly, estimate the error of the slope from the covariance and print it."
   ]
  },
  {
   "cell_type": "code",
   "execution_count": null,
   "id": "fc02003f",
   "metadata": {},
   "outputs": [],
   "source": [
    "perr = np.sqrt(np.diag(pcov))\n",
    "\n",
    "slope=popt[0]\n",
    "slopeerr=perr[0]\n",
    "#print the main sequence slope\n",
    "print('slope: ',slope)\n",
    "print('error: ', slopeerr)"
   ]
  },
  {
   "cell_type": "markdown",
   "id": "b5e6d03d",
   "metadata": {},
   "source": [
    "## Plotting it all together\n",
    "\n",
    "We will now plot this line over the log(SFR) vs. log(Ms) plane."
   ]
  },
  {
   "cell_type": "code",
   "execution_count": null,
   "id": "2f8428fc",
   "metadata": {},
   "outputs": [],
   "source": [
    "#Get the values of logmass and logSFR where logmass is finite.\n",
    "#If you want, you can impose a fixed sSFR requirement. \n",
    "#A good choice is sSFR=10^-12\n",
    "plt.hist2d(logmass[np.isfinite(logSFR)],\\\n",
    "           logSFR[np.isfinite(logSFR)], \\\n",
    "           bins=100, cmin=1)\n",
    "\n",
    "#Plot the line that we fit\n",
    "plt.plot(logmass, \\\n",
    "         line(logmass, *popt),\\\n",
    "         color='magenta')\n",
    "\n",
    "#Add a colorbar and label it.\n",
    "cbar=plt.colorbar()\n",
    "cbar.set_label('$N_{\\mathrm{galaxies}}$', rotation=90,fontsize=12)\n",
    "\n",
    "#Label the figure axes\n",
    "plt.xlabel('log($M_*$ [$M_\\odot$])',fontsize=12)\n",
    "plt.ylabel('log(SFR [$M_\\odot$/yr])',fontsize=12)\n",
    "\n",
    "#Edit the tick labels\n",
    "plt.tick_params(axis='both', direction='in', \\\n",
    "                width=1.25,labelsize='medium', \\\n",
    "                which='both',top=True,right=True)"
   ]
  },
  {
   "cell_type": "markdown",
   "id": "01a0d41e",
   "metadata": {},
   "source": [
    "## Exercise: Use a different calculation of stellar mass or SFR to test the impact on the resulting main sequence slope\n",
    "\n",
    "So far, we have used instantaneous star formation rates. Let's try repeating this experiment using the star formation that has occurred in the past 10 Myrs.\n",
    "\n",
    "We already defined SFR_10 above from the galaxy catalog that we made in Notebook 1. Notice that SFR_10 has the same shape as the instantaneous SFRs that we were using, there are just zero values where no star formation has taken place in the past 10 Myrs."
   ]
  },
  {
   "cell_type": "code",
   "execution_count": null,
   "id": "f8c702d2",
   "metadata": {},
   "outputs": [],
   "source": [
    "print(SFR_i.shape)\n",
    "print(SFR_10.shape)"
   ]
  },
  {
   "cell_type": "markdown",
   "id": "bf241997",
   "metadata": {},
   "source": [
    "Now, let's define logSFR_10. We can use the same logMs array that we have been using, so we do not need to redefine that."
   ]
  },
  {
   "cell_type": "code",
   "execution_count": null,
   "id": "019388da",
   "metadata": {},
   "outputs": [],
   "source": [
    "#ignore the runetimewarning.\n",
    "logSFR_10 = np.log10(SFR_10)"
   ]
  },
  {
   "cell_type": "markdown",
   "id": "fda38557",
   "metadata": {},
   "source": [
    "In the block below, plot the logSFR_10 vs. logMs plane"
   ]
  },
  {
   "cell_type": "code",
   "execution_count": 22,
   "id": "749fd9ff",
   "metadata": {},
   "outputs": [],
   "source": [
    "#Use hist2d to plot logSFR_10 vs logMs.\n",
    "#Don't forget to either filter out the \n",
    "#non-finite SFRs or impose a fixed cutoff.\n",
    "\n",
    "#Hint: copy the code for the first plot\n",
    "#that we made and change\n",
    "#logSFR to logSFR_10\n",
    "\n",
    "\n",
    "\n"
   ]
  },
  {
   "cell_type": "markdown",
   "id": "38c5208c",
   "metadata": {},
   "source": [
    "Now, reference the code above and perform the ridge line fit to these data."
   ]
  },
  {
   "cell_type": "code",
   "execution_count": 23,
   "id": "560c5576",
   "metadata": {},
   "outputs": [],
   "source": [
    "#Perform the ridge line fit to the new data below\n",
    "\n",
    "\n"
   ]
  },
  {
   "cell_type": "markdown",
   "id": "8d2008b5",
   "metadata": {},
   "source": [
    "Compare the slope of the line that you got here with the slope that we derived earlier. Are they statistically different?\n",
    "\n",
    "Lastly, replot logSFR_10 vs. logMs and overlay the line that you just fit. How does this plot compare to the one that we made earler? "
   ]
  },
  {
   "cell_type": "code",
   "execution_count": 24,
   "id": "c1d11aff",
   "metadata": {},
   "outputs": [],
   "source": [
    "#Replot logSFR_10 vs. logMs with the\n",
    "#line that you fit above.\n",
    "#If you'd like, change the x and y limits of this plot\n",
    "#to match the one that we made earlier.\n",
    "#You can do this with plt.ylim(lower_bound, upper_bound)\n",
    "#and plt.xlim(lower_bound, upper_bound)\n",
    "\n",
    "\n",
    "\n"
   ]
  },
  {
   "cell_type": "markdown",
   "id": "3f4ec1eb",
   "metadata": {},
   "source": [
    "## Extension: Explore the dependence of the SFMS on timescale or aperture\n",
    "\n",
    "Going back to Notebook 1, the SFR supplementary catalog contains SFRs averaged over different timescales and within different apertures. You can add those to your galaxy catalog and follow the procedure above to find the main sequence slope. Then, you can explore the dependence of the slope on these choices. You can also check out the results in Donnari+ (2019): https://arxiv.org/abs/1812.07584 or Pillepich+ (2019): https://arxiv.org/abs/1902.05553."
   ]
  },
  {
   "cell_type": "code",
   "execution_count": null,
   "id": "4732a4d7",
   "metadata": {},
   "outputs": [],
   "source": [
    "### Extension ###"
   ]
  },
  {
   "cell_type": "markdown",
   "id": "fb86f80a",
   "metadata": {},
   "source": [
    "## Exercise: categorizing galaxies into star burst, main sequence, green valley, and quenched\n",
    "\n",
    "The logSFR vs. logMs plane is often used to define different galaxy populations. These definitions usually categorize a galaxy as being a star burst, main sequence, green valley, or quench galaxy based on how far above or below the galaxy is from the main sequence ridge. \n",
    "\n",
    "In this exercise, you will classify galaxies based on the following definitions:\n",
    "\n",
    "0. quenched: galSFR <= MS_SFR-1.1\n",
    "\n",
    "1. green valley: MS_SFR-0.5 >= galSFR > MS_SFR-1.1\n",
    "\n",
    "2. main sequence: MS_SFR+0.5 >= galSFR > MS_SFR-0.5\n",
    "\n",
    "3. star burst: galSFR > MS_SFR.\n",
    "    \n",
    "Here, galSFR is the star formation of a galaxy (in dex) and MS_SFR is the corresponding value of the SFR along the main sequence ridge (in dex).\n",
    "\n",
    "In the following code block, you will define a function that takes in an arbitrary list of stellar masses and SFRs (each of length N) and outputs an array galClassification (length N) that classifies the galaxies into one of the above categories. That is, each galaxy will be assigned a number (either 0, 1, 2, or 3) based on its classification.\n",
    "\n",
    "Let's do this using the total stellar masses and the instantaneous star formation rates. Earlier, we determined the ridge of the line going through these data had a slope of 0.9059 and a y-intercept of -8.977."
   ]
  },
  {
   "cell_type": "code",
   "execution_count": 25,
   "id": "a7a6a7fc",
   "metadata": {},
   "outputs": [],
   "source": [
    "def SF_cat(galMs, galSFR, MS_slope, MS_inter):\n",
    "    \"\"\"\n",
    "    Params\n",
    "    --------\n",
    "    galMs - (N,) - array of galaxy stellar masses (in dex), \n",
    "                   value must be finite.\n",
    "    galSFR - (N,) - array of galaxy star formation rates (in dex),\n",
    "                    value must be finite.\n",
    "    MS_slope - int - slope of the main sequence ridge.\n",
    "    MS_inter - int - intercept of the main sequence ridge.\n",
    "    \n",
    "    Returns\n",
    "    --------\n",
    "    galClass - (N,) - classification of each galaxy\n",
    "                            either 0, 1, 2, or 3 corresponding to\n",
    "                            quenched, green valley, main sequence,\n",
    "                            or star burst, respectively.\n",
    "                            \n",
    "    \"\"\"\n",
    "    \n",
    "    #instantiate classification\n",
    "    galClass = np.empty(len(galMs))\n",
    "    \n",
    "    #Define the values of MS_SFR.\n",
    "    #That is, the values of the main sequence ridge \n",
    "    #corresponding to the stellar masses that \n",
    "    #we are interested in\n",
    "    \n",
    "    MS_SFR = #fill in the rest of this equation\n",
    "\n",
    "    # Next, loop over each galaxy and classify it\n",
    "    for i in range(len(galMs)):\n",
    "        # Fill in the logic for each if statement\n",
    "    \n",
    "        if :#Fill in this logic\n",
    "            galClass[i] = 0\n",
    "            \n",
    "        if :#Fill in this logic\n",
    "            galClass[i] = 1\n",
    "            \n",
    "        if :#Fill in this logic\n",
    "            galClass[i] = 2\n",
    "            \n",
    "        if :#Fill in this logic\n",
    "            galClass[i] = 3\n",
    "            \n",
    "    return galClass"
   ]
  },
  {
   "cell_type": "markdown",
   "id": "0259acb4",
   "metadata": {},
   "source": [
    "Now, let's remove the non-finite values from logSFR and logmass and classify these galaxies using the relation that we calculated above."
   ]
  },
  {
   "cell_type": "code",
   "execution_count": 26,
   "id": "df4f1614",
   "metadata": {},
   "outputs": [],
   "source": [
    "#Remove non-finite values\n",
    "finite_logmass = logmass[np.isfinite(logSFR)]\n",
    "finite_logSFR = logSFR[np.isfinite(logSFR)]"
   ]
  },
  {
   "cell_type": "code",
   "execution_count": 27,
   "id": "fa2f021e",
   "metadata": {},
   "outputs": [],
   "source": [
    "#classify the galaxies\n",
    "\n",
    "### Can update this code to replace the slope and intercept with the appropriate variables ####\n",
    "galClass = SF_cat(finite_logmass, finite_logSFR, 0.9059, -8.977)"
   ]
  },
  {
   "cell_type": "markdown",
   "id": "c1a7f3dc",
   "metadata": {},
   "source": [
    "Let's see how many of each galaxy type we have in our sample."
   ]
  },
  {
   "cell_type": "code",
   "execution_count": null,
   "id": "8fc32f2f",
   "metadata": {},
   "outputs": [],
   "source": [
    "print(\"There are \", len(finite_logSFR), \" galaxies total\")\n",
    "print(\"There are \", len(galClass[galClass==0]), \" quenched galaxies\")\n",
    "print(\"There are \", len(galClass[galClass==1]), \" green valley galaxies\")\n",
    "print(\"There are \", len(galClass[galClass==2]), \" main sequence galaxies\")\n",
    "print(\"There are \", len(galClass[galClass==3]), \" star burst galaxies\")"
   ]
  },
  {
   "cell_type": "markdown",
   "id": "5eb7fe34",
   "metadata": {},
   "source": [
    "For reference, when the code was run for TNG100 with the default mass cut in Notebook 1, there were 35911 total galaxies, 2531 quenched galaxies, 5100 green valley galaxies, 15352 main sequence galaxies, and 12928 star burst galaxies."
   ]
  },
  {
   "cell_type": "code",
   "execution_count": null,
   "id": "4cfaea77",
   "metadata": {},
   "outputs": [],
   "source": []
  }
 ],
 "metadata": {
  "kernelspec": {
   "display_name": "Python 3 (ipykernel)",
   "language": "python",
   "name": "python3"
  },
  "language_info": {
   "codemirror_mode": {
    "name": "ipython",
    "version": 3
   },
   "file_extension": ".py",
   "mimetype": "text/x-python",
   "name": "python",
   "nbconvert_exporter": "python",
   "pygments_lexer": "ipython3",
   "version": "3.10.12"
  }
 },
 "nbformat": 4,
 "nbformat_minor": 5
}
